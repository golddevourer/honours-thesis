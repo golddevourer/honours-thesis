{
 "cells": [
  {
   "cell_type": "code",
   "execution_count": 7,
   "metadata": {},
   "outputs": [
    {
     "ename": "RuntimeError",
     "evalue": "No CC3D core specification available",
     "output_type": "error",
     "traceback": [
      "\u001b[1;31m---------------------------------------------------------------------------\u001b[0m",
      "\u001b[1;31mRuntimeError\u001b[0m                              Traceback (most recent call last)",
      "Cell \u001b[1;32mIn[7], line 8\u001b[0m\n\u001b[0;32m      3\u001b[0m \u001b[38;5;28;01mfrom\u001b[39;00m \u001b[38;5;21;01mtest1Steppables\u001b[39;00m \u001b[38;5;28;01mimport\u001b[39;00m test1Steppable\n\u001b[0;32m      5\u001b[0m CompuCellSetup\u001b[38;5;241m.\u001b[39mregister_steppable(steppable\u001b[38;5;241m=\u001b[39mtest1Steppable(frequency\u001b[38;5;241m=\u001b[39m\u001b[38;5;241m1\u001b[39m))\n\u001b[1;32m----> 8\u001b[0m \u001b[43mCompuCellSetup\u001b[49m\u001b[38;5;241;43m.\u001b[39;49m\u001b[43mrun\u001b[49m\u001b[43m(\u001b[49m\u001b[43m)\u001b[49m\n",
      "File \u001b[1;32mD:\\CompuCell3D\\Miniconda3\\lib\\site-packages\\cc3d\\CompuCellSetup\\simulation_setup.py:138\u001b[0m, in \u001b[0;36mrun\u001b[1;34m()\u001b[0m\n\u001b[0;32m    136\u001b[0m simulation_initialized \u001b[38;5;241m=\u001b[39m persistent_globals\u001b[38;5;241m.\u001b[39msimulation_initialized\n\u001b[0;32m    137\u001b[0m \u001b[38;5;28;01mif\u001b[39;00m \u001b[38;5;129;01mnot\u001b[39;00m simulation_initialized:\n\u001b[1;32m--> 138\u001b[0m     \u001b[43minitialize_cc3d\u001b[49m\u001b[43m(\u001b[49m\u001b[43m)\u001b[49m\n\u001b[0;32m    139\u001b[0m     check_for_cpp_errors(CompuCellSetup\u001b[38;5;241m.\u001b[39mpersistent_globals\u001b[38;5;241m.\u001b[39msimulator)\n\u001b[0;32m    141\u001b[0m     persistent_globals\u001b[38;5;241m.\u001b[39msteppable_registry\u001b[38;5;241m.\u001b[39mcore_init()\n",
      "File \u001b[1;32mD:\\CompuCell3D\\Miniconda3\\lib\\site-packages\\cc3d\\CompuCellSetup\\simulation_setup.py:92\u001b[0m, in \u001b[0;36minitialize_cc3d\u001b[1;34m()\u001b[0m\n\u001b[0;32m     86\u001b[0m \u001b[38;5;28;01mdef\u001b[39;00m \u001b[38;5;21minitialize_cc3d\u001b[39m():\n\u001b[0;32m     87\u001b[0m \u001b[38;5;250m    \u001b[39m\u001b[38;5;124;03m\"\"\"\u001b[39;00m\n\u001b[0;32m     88\u001b[0m \n\u001b[0;32m     89\u001b[0m \u001b[38;5;124;03m    :return:\u001b[39;00m\n\u001b[0;32m     90\u001b[0m \u001b[38;5;124;03m    \"\"\"\u001b[39;00m\n\u001b[0;32m     91\u001b[0m     CompuCellSetup\u001b[38;5;241m.\u001b[39mpersistent_globals\u001b[38;5;241m.\u001b[39msimulator, \\\n\u001b[1;32m---> 92\u001b[0m     CompuCellSetup\u001b[38;5;241m.\u001b[39mpersistent_globals\u001b[38;5;241m.\u001b[39msimthread \u001b[38;5;241m=\u001b[39m \u001b[43mget_core_simulation_objects\u001b[49m\u001b[43m(\u001b[49m\u001b[43m)\u001b[49m\n\u001b[0;32m     94\u001b[0m     \u001b[38;5;66;03m# this is mainly used by command line interface. Player has separate setup_logging function\u001b[39;00m\n\u001b[0;32m     95\u001b[0m     setup_logging()\n",
      "File \u001b[1;32mD:\\CompuCell3D\\Miniconda3\\lib\\site-packages\\cc3d\\CompuCellSetup\\simulation_setup.py:288\u001b[0m, in \u001b[0;36mget_core_simulation_objects\u001b[1;34m()\u001b[0m\n\u001b[0;32m    286\u001b[0m \u001b[38;5;28;01mif\u001b[39;00m persistent_globals\u001b[38;5;241m.\u001b[39mcc3d_xml_2_obj_converter \u001b[38;5;129;01mis\u001b[39;00m \u001b[38;5;28;01mNone\u001b[39;00m:\n\u001b[0;32m    287\u001b[0m     \u001b[38;5;28;01mif\u001b[39;00m xml_fname \u001b[38;5;129;01mis\u001b[39;00m \u001b[38;5;28;01mNone\u001b[39;00m:\n\u001b[1;32m--> 288\u001b[0m         \u001b[38;5;28;01mraise\u001b[39;00m \u001b[38;5;167;01mRuntimeError\u001b[39;00m(\u001b[38;5;124m'\u001b[39m\u001b[38;5;124mNo CC3D core specification available\u001b[39m\u001b[38;5;124m'\u001b[39m)\n\u001b[0;32m    290\u001b[0m     \u001b[38;5;66;03m# We only call parseXML if previous steps do not initialize XML tree\u001b[39;00m\n\u001b[0;32m    291\u001b[0m     \u001b[38;5;66;03m# Such situation usually happen when we specify XML tree using Python API in configure_simulation function\u001b[39;00m\n\u001b[0;32m    292\u001b[0m     \u001b[38;5;66;03m# that is typically called from the Python main script\u001b[39;00m\n\u001b[0;32m    294\u001b[0m     cc3d_xml2_obj_converter \u001b[38;5;241m=\u001b[39m parseXML(xml_fname\u001b[38;5;241m=\u001b[39mxml_fname)\n",
      "\u001b[1;31mRuntimeError\u001b[0m: No CC3D core specification available"
     ]
    }
   ],
   "source": [
    "from cc3d import CompuCellSetup\n",
    "\n",
    "from test1Steppables import test1Steppable\n",
    "\n",
    "CompuCellSetup.register_steppable(steppable=test1Steppable(frequency=1))\n",
    "\n",
    "CompuCellSetup.run()"
   ]
  },
  {
   "cell_type": "code",
   "execution_count": 6,
   "metadata": {},
   "outputs": [
    {
     "name": "stdout",
     "output_type": "stream",
     "text": [
      "['D:\\\\CompuCell3D\\\\Miniconda3\\\\python310.zip', 'D:\\\\CompuCell3D\\\\Miniconda3\\\\DLLs', 'D:\\\\CompuCell3D\\\\Miniconda3\\\\lib', 'D:\\\\CompuCell3D\\\\Miniconda3', '', 'D:\\\\CompuCell3D\\\\Miniconda3\\\\lib\\\\site-packages', 'D:\\\\CompuCell3D\\\\Miniconda3\\\\lib\\\\site-packages\\\\win32', 'D:\\\\CompuCell3D\\\\Miniconda3\\\\lib\\\\site-packages\\\\win32\\\\lib', 'D:\\\\CompuCell3D\\\\Miniconda3\\\\lib\\\\site-packages\\\\Pythonwin']\n"
     ]
    }
   ],
   "source": [
    "import sys\n",
    "print(sys.path)"
   ]
  },
  {
   "cell_type": "code",
   "execution_count": null,
   "metadata": {},
   "outputs": [],
   "source": []
  }
 ],
 "metadata": {
  "kernelspec": {
   "display_name": "Python 3 (ipykernel)",
   "language": "python",
   "name": "python3"
  },
  "language_info": {
   "codemirror_mode": {
    "name": "ipython",
    "version": 3
   },
   "file_extension": ".py",
   "mimetype": "text/x-python",
   "name": "python",
   "nbconvert_exporter": "python",
   "pygments_lexer": "ipython3",
   "version": "3.10.14"
  }
 },
 "nbformat": 4,
 "nbformat_minor": 4
}
